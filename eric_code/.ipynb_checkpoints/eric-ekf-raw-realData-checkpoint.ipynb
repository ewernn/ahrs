{
 "cells": [
  {
   "cell_type": "code",
   "execution_count": 5,
   "id": "af647afb",
   "metadata": {},
   "outputs": [],
   "source": [
    "import numpy as np\n",
    "from ahrs.filters import ericEKF\n",
    "from ahrs.common.orientation import acc2q"
   ]
  },
  {
   "cell_type": "code",
   "execution_count": 2,
   "id": "d020ea20",
   "metadata": {
    "scrolled": true
   },
   "outputs": [
    {
     "name": "stdout",
     "output_type": "stream",
     "text": [
      "[-5.0000e+00  5.4420e+03  1.4332e+04] [  86. -150.   69.] [   2.  218. -110.]\n",
      "array shapes:  (740, 3)\n"
     ]
    }
   ],
   "source": [
    "# load in data\n",
    "import csv\n",
    "\n",
    "rows = []\n",
    "file = \"/Users/ewern/Documents/GitHub/ahrs/eric_data/raw_9dof_realData.csv\"\n",
    "\n",
    "data = np.loadtxt(file, delimiter=',', dtype=float, skiprows=2)\n",
    "\n",
    "accData = data[:,:3]\n",
    "gyroData = data[:,3:6]\n",
    "magData = data[:,6:9]\n",
    "print(accData[0], gyroData[0], magData[0])\n",
    "print(\"array shapes: \",accData.shape)"
   ]
  },
  {
   "cell_type": "code",
   "execution_count": 3,
   "id": "01ed85c4",
   "metadata": {},
   "outputs": [
    {
     "ename": "AttributeError",
     "evalue": "module 'ahrs.filters.ericEKF' has no attribute 'EricEKF'",
     "output_type": "error",
     "traceback": [
      "\u001b[0;31m---------------------------------------------------------------------------\u001b[0m",
      "\u001b[0;31mAttributeError\u001b[0m                            Traceback (most recent call last)",
      "Input \u001b[0;32mIn [3]\u001b[0m, in \u001b[0;36m<cell line: 1>\u001b[0;34m()\u001b[0m\n\u001b[0;32m----> 1\u001b[0m ekf \u001b[38;5;241m=\u001b[39m \u001b[43mericEKF\u001b[49m\u001b[38;5;241;43m.\u001b[39;49m\u001b[43mEricEKF\u001b[49m(gyr\u001b[38;5;241m=\u001b[39mgyroData, acc\u001b[38;5;241m=\u001b[39maccData, mag\u001b[38;5;241m=\u001b[39mmagData)\n\u001b[1;32m      3\u001b[0m \u001b[38;5;28mprint\u001b[39m(ekf\u001b[38;5;241m.\u001b[39mQ\u001b[38;5;241m.\u001b[39mshape)\n",
      "\u001b[0;31mAttributeError\u001b[0m: module 'ahrs.filters.ericEKF' has no attribute 'EricEKF'"
     ]
    }
   ],
   "source": [
    "ekf = ericEKF.EricEKF(gyr=gyroData, acc=accData, mag=magData)\n",
    "\n",
    "print(ekf.Q.shape)"
   ]
  },
  {
   "cell_type": "code",
   "execution_count": null,
   "id": "0ee13c81",
   "metadata": {},
   "outputs": [],
   "source": [
    "import socket\n",
    "import struct\n",
    "from time import sleep\n",
    "\n",
    "addr = (\"127.0.0.1\", 5005)\n",
    "s = socket.socket(socket.AF_INET, socket.SOCK_DGRAM)\n",
    "\n",
    "iter = 0\n",
    "for row in ekf.Q:\n",
    "    message = 'w'+str(row[0])+'wa'+str(row[1])+'ab'+str(row[2])+'bc'+str(row[3])+'c'\n",
    "    s.sendto(message.encode('utf-8'), addr)\n",
    "    \n",
    "    if (iter % 10) is 0: print('iter ',iter,' sent')\n",
    "    iter += 1\n",
    "    sleep(.01)\n",
    "    \n",
    "s.close()"
   ]
  }
 ],
 "metadata": {
  "kernelspec": {
   "display_name": "Python 3 (ipykernel)",
   "language": "python",
   "name": "python3"
  },
  "language_info": {
   "codemirror_mode": {
    "name": "ipython",
    "version": 3
   },
   "file_extension": ".py",
   "mimetype": "text/x-python",
   "name": "python",
   "nbconvert_exporter": "python",
   "pygments_lexer": "ipython3",
   "version": "3.9.12"
  }
 },
 "nbformat": 4,
 "nbformat_minor": 5
}
