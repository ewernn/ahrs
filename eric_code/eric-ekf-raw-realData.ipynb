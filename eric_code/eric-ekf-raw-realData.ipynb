{
 "cells": [
  {
   "cell_type": "code",
   "execution_count": 14,
   "id": "af647afb",
   "metadata": {},
   "outputs": [
    {
     "ename": "ImportError",
     "evalue": "cannot import name 'ericEKF2' from 'ahrs.filters' (/Users/ewern/miniconda3/lib/python3.9/site-packages/AHRS-0.3.1-py3.9.egg/ahrs/filters/__init__.py)",
     "output_type": "error",
     "traceback": [
      "\u001b[0;31m---------------------------------------------------------------------------\u001b[0m",
      "\u001b[0;31mImportError\u001b[0m                               Traceback (most recent call last)",
      "Input \u001b[0;32mIn [14]\u001b[0m, in \u001b[0;36m<cell line: 2>\u001b[0;34m()\u001b[0m\n\u001b[1;32m      1\u001b[0m \u001b[38;5;28;01mimport\u001b[39;00m \u001b[38;5;21;01mnumpy\u001b[39;00m \u001b[38;5;28;01mas\u001b[39;00m \u001b[38;5;21;01mnp\u001b[39;00m\n\u001b[0;32m----> 2\u001b[0m \u001b[38;5;28;01mfrom\u001b[39;00m \u001b[38;5;21;01mahrs\u001b[39;00m\u001b[38;5;21;01m.\u001b[39;00m\u001b[38;5;21;01mfilters\u001b[39;00m \u001b[38;5;28;01mimport\u001b[39;00m ericEKF2\n\u001b[1;32m      3\u001b[0m \u001b[38;5;28;01mfrom\u001b[39;00m \u001b[38;5;21;01mahrs\u001b[39;00m\u001b[38;5;21;01m.\u001b[39;00m\u001b[38;5;21;01mcommon\u001b[39;00m\u001b[38;5;21;01m.\u001b[39;00m\u001b[38;5;21;01morientation\u001b[39;00m \u001b[38;5;28;01mimport\u001b[39;00m acc2q\n",
      "\u001b[0;31mImportError\u001b[0m: cannot import name 'ericEKF2' from 'ahrs.filters' (/Users/ewern/miniconda3/lib/python3.9/site-packages/AHRS-0.3.1-py3.9.egg/ahrs/filters/__init__.py)"
     ]
    }
   ],
   "source": [
    "import numpy as np\n",
    "from ahrs.filters import ericEKF2\n",
    "from ahrs.common.orientation import acc2q"
   ]
  },
  {
   "cell_type": "code",
   "execution_count": 11,
   "id": "d020ea20",
   "metadata": {
    "scrolled": true
   },
   "outputs": [
    {
     "name": "stdout",
     "output_type": "stream",
     "text": [
      "[-5.0000e+00  5.4420e+03  1.4332e+04] [  86. -150.   69.] [   2.  218. -110.]\n",
      "array shapes:  (740, 3)\n"
     ]
    }
   ],
   "source": [
    "# load in data\n",
    "import csv\n",
    "\n",
    "rows = []\n",
    "file = \"/Users/ewern/Documents/GitHub/ahrs/eric_data/raw_9dof_realData.csv\"\n",
    "\n",
    "data = np.loadtxt(file, delimiter=',', dtype=float, skiprows=2)\n",
    "\n",
    "accData = data[:,:3]\n",
    "gyroData = data[:,3:6]\n",
    "magData = data[:,6:9]\n",
    "print(accData[0], gyroData[0], magData[0])\n",
    "print(\"array shapes: \",accData.shape)"
   ]
  },
  {
   "cell_type": "code",
   "execution_count": 13,
   "id": "01ed85c4",
   "metadata": {},
   "outputs": [
    {
     "name": "stdout",
     "output_type": "stream",
     "text": [
      "(740, 4)\n"
     ]
    }
   ],
   "source": [
    "ekf = ericEKF.EricEKF(gyr=gyroData, acc=accData, mag=magData)\n",
    "\n",
    "print(ekf.Q.shape)"
   ]
  },
  {
   "cell_type": "code",
   "execution_count": null,
   "id": "0ee13c81",
   "metadata": {},
   "outputs": [],
   "source": [
    "import socket\n",
    "import struct\n",
    "from time import sleep\n",
    "\n",
    "addr = (\"127.0.0.1\", 5005)\n",
    "s = socket.socket(socket.AF_INET, socket.SOCK_DGRAM)\n",
    "\n",
    "iter = 0\n",
    "for row in ekf.Q:\n",
    "    message = 'w'+str(row[0])+'wa'+str(row[1])+'ab'+str(row[2])+'bc'+str(row[3])+'c'\n",
    "    s.sendto(message.encode('utf-8'), addr)\n",
    "    \n",
    "    if (iter % 10) is 0: print('iter ',iter,' sent')\n",
    "    iter += 1\n",
    "    sleep(.01)\n",
    "    \n",
    "s.close()"
   ]
  }
 ],
 "metadata": {
  "kernelspec": {
   "display_name": "Python 3 (ipykernel)",
   "language": "python",
   "name": "python3"
  },
  "language_info": {
   "codemirror_mode": {
    "name": "ipython",
    "version": 3
   },
   "file_extension": ".py",
   "mimetype": "text/x-python",
   "name": "python",
   "nbconvert_exporter": "python",
   "pygments_lexer": "ipython3",
   "version": "3.9.12"
  }
 },
 "nbformat": 4,
 "nbformat_minor": 5
}
